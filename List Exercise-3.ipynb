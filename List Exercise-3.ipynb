{
 "cells": [
  {
   "cell_type": "markdown",
   "metadata": {},
   "source": [
    "# List Slicing"
   ]
  },
  {
   "cell_type": "code",
   "execution_count": 4,
   "metadata": {},
   "outputs": [
    {
     "name": "stdout",
     "output_type": "stream",
     "text": [
      "[3, 4, 56, 7]\n"
     ]
    }
   ],
   "source": [
    "a=[3,4,56,7,39,9,10,11,23,43]\n",
    "b=a[0:4:1]\n",
    "print(b)"
   ]
  },
  {
   "cell_type": "code",
   "execution_count": 6,
   "metadata": {},
   "outputs": [
    {
     "name": "stdout",
     "output_type": "stream",
     "text": [
      "[3, 7]\n"
     ]
    }
   ],
   "source": [
    "a=[3,4,56,7,39,9,10,11,23,43]\n",
    "b=a[0:6:3]\n",
    "print(b) # Slicing will take steps of 2"
   ]
  },
  {
   "cell_type": "code",
   "execution_count": 9,
   "metadata": {},
   "outputs": [
    {
     "name": "stdout",
     "output_type": "stream",
     "text": [
      "[10, 9, 39, 7]\n"
     ]
    }
   ],
   "source": [
    "a=[3,4,56,7,39,9,10,11,23,43]\n",
    "b=a[6:2:-1]\n",
    "print(b) # slicing will take reverse order starting from 6th Index value and ending at 3rd index value excluding 2nd Index"
   ]
  },
  {
   "cell_type": "code",
   "execution_count": 14,
   "metadata": {},
   "outputs": [
    {
     "name": "stdout",
     "output_type": "stream",
     "text": [
      "[3, 56, 39, 10]\n"
     ]
    }
   ],
   "source": [
    "a=[3,4,56,7,39,9,10,11,23,43]\n",
    "b=a[:7:2]\n",
    "print(b) # Slicing will start at 0th Index value taking steps of 1 value and stopping at 6th Indexvalue excluding 7th Index"
   ]
  },
  {
   "cell_type": "code",
   "execution_count": 15,
   "metadata": {},
   "outputs": [
    {
     "name": "stdout",
     "output_type": "stream",
     "text": [
      "[3, 4, 56, 7, 39, 9, 10]\n"
     ]
    }
   ],
   "source": [
    "a=[3,4,56,7,39,9,10,11,23,43]\n",
    "b=a[:7:1]\n",
    "print(b) # Slicing will start at 0th Index value taking steps of 0 value and stopping at 6th Indexvalue excluding 7th Index"
   ]
  },
  {
   "cell_type": "code",
   "execution_count": 16,
   "metadata": {},
   "outputs": [
    {
     "name": "stdout",
     "output_type": "stream",
     "text": [
      "[3, 7, 10]\n"
     ]
    }
   ],
   "source": [
    "a=[3,4,56,7,39,9,10,11,23,43]\n",
    "b=a[:7:3]\n",
    "print(b) # Slicing will start at 0th Index value taking steps of 2 values and stopping at 6th Indexvalue excluding 7th Index"
   ]
  },
  {
   "cell_type": "code",
   "execution_count": 19,
   "metadata": {},
   "outputs": [
    {
     "name": "stdout",
     "output_type": "stream",
     "text": [
      "[39, 10, 23, 12, 14]\n"
     ]
    }
   ],
   "source": [
    "a=[3,4,56,7,39,9,10,11,23,43,12,13,14]\n",
    "b=a[4::2]\n",
    "print(b) # Slicing will start at 4th Index value taking steps of 1 values and continueing till last value"
   ]
  },
  {
   "cell_type": "code",
   "execution_count": 21,
   "metadata": {},
   "outputs": [
    {
     "name": "stdout",
     "output_type": "stream",
     "text": [
      "[14, 13, 12, 43, 23]\n"
     ]
    }
   ],
   "source": [
    "a=[3,4,56,7,39,9,10,11,23,43,12,13,14]\n",
    "b=a[:-6:-1]\n",
    "print(b) # Slicing will start at -1th (Last) Index value taking steps of 0th values and stopping at -5th Indexvalue \n",
    "# excluding -6th Index"
   ]
  },
  {
   "cell_type": "code",
   "execution_count": 22,
   "metadata": {},
   "outputs": [
    {
     "name": "stdout",
     "output_type": "stream",
     "text": [
      "[43, 11, 9, 7, 4]\n"
     ]
    }
   ],
   "source": [
    "a=[3,4,56,7,39,9,10,11,23,43,12,13,14]\n",
    "b=a[-4::-2]\n",
    "print(b) # Slicing will start at -4th Index value taking steps of 1 values and continueing till last value in reverse order"
   ]
  },
  {
   "cell_type": "code",
   "execution_count": 24,
   "metadata": {},
   "outputs": [
    {
     "name": "stdout",
     "output_type": "stream",
     "text": [
      "[9, 11, 43, 13]\n"
     ]
    }
   ],
   "source": [
    "a=[3,4,56,7,39,9,10,11,23,43,12,13,14]\n",
    "b=a[5:-1:2]\n",
    "print(b) # Slicing will start at 5th Index value taking steps of 1 values and continueing till last value"
   ]
  },
  {
   "cell_type": "code",
   "execution_count": 25,
   "metadata": {},
   "outputs": [
    {
     "name": "stdout",
     "output_type": "stream",
     "text": [
      "[14, 13, 12, 43, 23, 11, 10]\n"
     ]
    }
   ],
   "source": [
    "a=[3,4,56,7,39,9,10,11,23,43,12,13,14]\n",
    "b=a[-1:5:-1]\n",
    "print(b) # Slicing will start at -1th Index value taking steps of 0 values in reverse order and stops at 1 value \n",
    "# before 5ht value"
   ]
  },
  {
   "cell_type": "code",
   "execution_count": 27,
   "metadata": {},
   "outputs": [
    {
     "name": "stdout",
     "output_type": "stream",
     "text": [
      "[14, 12, 23, 10]\n"
     ]
    }
   ],
   "source": [
    "a=[3,4,56,7,39,9,10,11,23,43,12,13,14]\n",
    "b=a[-1:4:-2]\n",
    "print(b)"
   ]
  },
  {
   "cell_type": "code",
   "execution_count": null,
   "metadata": {},
   "outputs": [],
   "source": []
  }
 ],
 "metadata": {
  "kernelspec": {
   "display_name": "Python 3",
   "language": "python",
   "name": "python3"
  },
  "language_info": {
   "codemirror_mode": {
    "name": "ipython",
    "version": 3
   },
   "file_extension": ".py",
   "mimetype": "text/x-python",
   "name": "python",
   "nbconvert_exporter": "python",
   "pygments_lexer": "ipython3",
   "version": "3.8.3"
  }
 },
 "nbformat": 4,
 "nbformat_minor": 4
}
